{
 "cells": [
  {
   "cell_type": "markdown",
   "id": "f68c7ce9-fb7a-4b63-8517-62c8a8df5c8d",
   "metadata": {},
   "source": [
    "# Process Observation Data Analysis\n",
    "## The aim of this analysis is to experiment with an alternative approach to analyzing process data that could potentially be more time efficient.\n",
    "\n",
    "The data structure for the data can be seen in the image below. The observations performed vary in the level of completness as some have been observed more than others, while some have not been observed at all. And for some the sample size is large enough and variance low enough to give confidence that an average is representative of the sample."
   ]
  },
  {
   "cell_type": "markdown",
   "id": "5224da76-b382-427b-8708-befd98191166",
   "metadata": {},
   "source": [
    "![ERD Image](../Data/ERD.jpg)"
   ]
  },
  {
   "cell_type": "code",
   "execution_count": 12,
   "id": "384f5e8d-6c12-4ed5-9b52-795c1e45ba61",
   "metadata": {},
   "outputs": [],
   "source": [
    "import pandas as pd\n",
    "import matplotlib.pyplot as plt\n",
    "import os\n",
    "from IPython.display import display\n",
    "import seaborn as sns"
   ]
  },
  {
   "cell_type": "code",
   "execution_count": 14,
   "id": "b1270130-9603-4863-806b-24e450ed408c",
   "metadata": {},
   "outputs": [
    {
     "name": "stdout",
     "output_type": "stream",
     "text": [
      "The names of the tabs or sheets in the excel file are as follows:  ['Iteration 1 Data (2)', 'Iteration 1 Data', 'Iteration 2 Tasks', 'Iteration 2 Session', 'DurationData', 'TaskData', 'RecordingData', 'ProcessData', 'HourlyRates']\n"
     ]
    }
   ],
   "source": [
    "data_folder = '../Data'\n",
    "full_path = os.path.join(data_folder, 'ProcessData.xlsx')\n",
    "excel_file_obj = pd.ExcelFile(full_path)\n",
    "print('The names of the tabs or sheets in the excel file are as follows: ' ,excel_file_obj.sheet_names)"
   ]
  },
  {
   "cell_type": "markdown",
   "id": "f9d1126d-43b1-4cbb-8e5f-7d146fd6f718",
   "metadata": {},
   "source": [
    "From the list of sheets above it is clear that there are some additional unwanted sheets. Upon investigation it looks like the other sheets are templates that were imporoperly deleted and out of best practice we will not be dedicating resources to parsing them."
   ]
  },
  {
   "cell_type": "code",
   "execution_count": 21,
   "id": "033892c9-6844-4a29-81c5-8bd54e5a1210",
   "metadata": {},
   "outputs": [],
   "source": [
    "sheets_to_import = ['DurationData', 'TaskData', 'RecordingData', 'ProcessData', 'HourlyRates']\n",
    "all_sheets = pd.read_excel(full_path, sheet_name=sheets_to_import)"
   ]
  },
  {
   "cell_type": "code",
   "execution_count": null,
   "id": "57f506f0-aa79-4060-9837-2affd9938a28",
   "metadata": {},
   "outputs": [],
   "source": []
  }
 ],
 "metadata": {
  "kernelspec": {
   "display_name": "Python 3 (ipykernel)",
   "language": "python",
   "name": "python3"
  },
  "language_info": {
   "codemirror_mode": {
    "name": "ipython",
    "version": 3
   },
   "file_extension": ".py",
   "mimetype": "text/x-python",
   "name": "python",
   "nbconvert_exporter": "python",
   "pygments_lexer": "ipython3",
   "version": "3.12.7"
  }
 },
 "nbformat": 4,
 "nbformat_minor": 5
}
